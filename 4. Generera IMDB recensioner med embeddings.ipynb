{
 "cells": [
  {
   "cell_type": "code",
   "execution_count": 1,
   "metadata": {},
   "outputs": [
    {
     "name": "stderr",
     "output_type": "stream",
     "text": [
      "Using TensorFlow backend.\n"
     ]
    }
   ],
   "source": [
    "import numpy as np\n",
    "import matplotlib.pyplot as plt\n",
    "import itertools as its\n",
    "import sys\n",
    "import time\n",
    "import os\n",
    "import string\n",
    "\n",
    "import tensorflow as tf\n",
    "\n",
    "import keras\n",
    "import keras.backend as K\n",
    "import keras.preprocessing.sequence as pps\n",
    "import keras.layers.wrappers as wrappers\n",
    "\n"
   ]
  },
  {
   "cell_type": "code",
   "execution_count": 2,
   "metadata": {
    "collapsed": true
   },
   "outputs": [],
   "source": [
    "\n",
    "# We get rid of most possible characters:\n",
    "chars_to_keep = string.ascii_lowercase  + string.digits + ' ' + ',' + '.' + '?' + '!' + '(' + ')' + '/' + ':' + ';' + '\\\"'\n",
    "\n",
    "char_to_idx = { c : i for i, c in enumerate(chars_to_keep)}\n",
    "idx_to_char = {i : c for i, c in enumerate(chars_to_keep)}\n",
    "\n",
    "\n",
    "\n",
    "\n",
    "def string_to_array(s):\n",
    "    # map maybe_char() to input to remove uncomon characters:\n",
    "    def maybe_char(c):\n",
    "        if c in chars_to_keep:\n",
    "            return c\n",
    "        return \"\"\n",
    "    # Return a numpy array\n",
    "    return np.array([char_to_idx[c] for c in \"\".join(map(maybe_char, s.lower()))], np.int8)\n",
    "\n",
    "\n",
    "\n",
    "def get_data(folder='aclImdb', files_to_use=1.0, max_len=800, train_data=True):\n",
    "    # Takes the first files_to_use files from both folders (max 25000 of each) and pads with zeros to max_len\n",
    "    \n",
    "    if train_data:\n",
    "        folder += '/train'\n",
    "    else:\n",
    "        folder += '/test'\n",
    "        \n",
    "    X = []\n",
    "    X_lengths = []\n",
    "    lengths = []\n",
    "    sub_folders = ['pos', 'neg']\n",
    "    for sub_folder in sub_folders:\n",
    "        path = folder + '/' + sub_folder + \"/\"\n",
    "        files = os.listdir(path)\n",
    "        \n",
    "        # Only take the fraction files_to_use \n",
    "        files = files[:int(len(files)*files_to_use)]\n",
    "        lengths.append(len(files))\n",
    "\n",
    "        for fn in files:\n",
    "\n",
    "            try:\n",
    "                f = file(path + fn, 'r')\n",
    "                ss = f.read()\n",
    "                f.close()\n",
    "            except Exception as e:\n",
    "                print \"Could not open file %s, error: %s %s %s\"% (fn, type(e), e.__str__(), sys.exc_info()[0])\n",
    "            \n",
    "            X.append(string_to_array(ss))\n",
    "            X_lengths.append(len(ss))\n",
    "\n",
    "    # Add one and so that we pad with zeros (zeros will be masked). First only positive, then negative.\n",
    "    X = keras.preprocessing.sequence.pad_sequences(X, max_len, dtype='int32', value=-1) + 1\n",
    "    y = np.concatenate((np.ones(lengths[0]), np.zeros(lengths[1])))\n",
    "    \n",
    "    np.random.seed(7)\n",
    "    np.random.shuffle(X)\n",
    "    \n",
    "    np.random.seed(7)\n",
    "    np.random.shuffle(y)\n",
    "    \n",
    "    return X, y[:, np.newaxis], X_lengths\n",
    "    "
   ]
  },
  {
   "cell_type": "code",
   "execution_count": null,
   "metadata": {
    "collapsed": true
   },
   "outputs": [],
   "source": []
  },
  {
   "cell_type": "code",
   "execution_count": 3,
   "metadata": {},
   "outputs": [
    {
     "data": {
      "image/png": "[encoded data removed]",
      "text/plain": [
       "<matplotlib.figure.Figure at 0x108dd8710>"
      ]
     },
     "metadata": {},
     "output_type": "display_data"
    }
   ],
   "source": [
    "plt.hist(get_data(max_len=5000)[2], bins=100, range=(0,4000))\n",
    "plt.show()"
   ]
  },
  {
   "cell_type": "code",
   "execution_count": 74,
   "metadata": {},
   "outputs": [
    {
     "data": {
      "text/plain": [
       "(25003, 600)"
      ]
     },
     "execution_count": 74,
     "metadata": {},
     "output_type": "execute_result"
    }
   ],
   "source": []
  },
  {
   "cell_type": "code",
   "execution_count": 3,
   "metadata": {
    "collapsed": true
   },
   "outputs": [],
   "source": [
    "X, y, lengths = get_data(max_len=600)\n"
   ]
  },
  {
   "cell_type": "code",
   "execution_count": 75,
   "metadata": {
    "collapsed": true
   },
   "outputs": [],
   "source": [
    "m = keras.models.Sequential()\n",
    "\n",
    "one_hot_embedding_lookup = np.concatenate((np.zeros((len(chars_to_keep), 1)), np.eye(len(chars_to_keep))), axis=1).T\n",
    "\n",
    "m.add( keras.layers.Embedding(len(chars_to_keep) + 1, len(chars_to_keep), mask_zero=True, trainable=False, weights=[one_hot_embedding_lookup]) )\n",
    "#m.add( keras.layers.LSTM(128, return_sequences=True))\n",
    "#m.add( keras.layers.Dropout(0.4))\n",
    "m.add( keras.layers.LSTM(128))\n",
    "#m.add( keras.layers.Dropout(0.4))\n",
    "m.add( keras.layers.Dense(len(chars_to_keep) + 1, activation='softmax') )\n",
    "\n",
    "m.compile('rmsprop', loss='sparse_categorical_crossentropy' )\n",
    "\n",
    "\n",
    "\n",
    "\n"
   ]
  },
  {
   "cell_type": "code",
   "execution_count": 76,
   "metadata": {
    "collapsed": true
   },
   "outputs": [],
   "source": [
    "history_list = []"
   ]
  },
  {
   "cell_type": "code",
   "execution_count": null,
   "metadata": {},
   "outputs": [
    {
     "name": "stderr",
     "output_type": "stream",
     "text": [
      "/usr/local/lib/python2.7/site-packages/keras/backend/tensorflow_backend.py:2289: UserWarning: Expected no kwargs, you passed 1\n",
      "kwargs passed to function are ignored with Tensorflow backend\n",
      "  warnings.warn('\\n'.join(msg))\n"
     ]
    },
    {
     "name": "stdout",
     "output_type": "stream",
     "text": [
      "Train on 22502 samples, validate on 2501 samples\n",
      "Epoch 1/1\n",
      "22502/22502 [==============================] - 42s - loss: 3.1477 - val_loss: 3.0318\n",
      "Train on 22502 samples, validate on 2501 samples\n",
      "Epoch 1/1\n",
      "22502/22502 [==============================] - 38s - loss: 2.9708 - val_loss: 2.8254\n",
      "Train on 22502 samples, validate on 2501 samples\n",
      "Epoch 1/1\n",
      "22502/22502 [==============================] - 46s - loss: 2.7537 - val_loss: 2.6356\n",
      "Train on 22502 samples, validate on 2501 samples\n",
      "Epoch 1/1\n",
      "22502/22502 [==============================] - 49s - loss: 2.6098 - val_loss: 2.4978\n",
      "Train on 22502 samples, validate on 2501 samples\n",
      "Epoch 1/1\n",
      "22502/22502 [==============================] - 48s - loss: 2.5032 - val_loss: 2.3940\n",
      "Train on 22502 samples, validate on 2501 samples\n",
      "Epoch 1/1\n",
      "22502/22502 [==============================] - 43s - loss: 2.4349 - val_loss: 2.3739\n",
      "Train on 22502 samples, validate on 2501 samples\n",
      "Epoch 1/1\n",
      "22502/22502 [==============================] - 43s - loss: 2.3574 - val_loss: 2.2003\n",
      "Train on 22502 samples, validate on 2501 samples\n",
      "Epoch 1/1\n",
      "22502/22502 [==============================] - 44s - loss: 2.3068 - val_loss: 2.2502\n",
      "Train on 22502 samples, validate on 2501 samples\n",
      "Epoch 1/1\n",
      "22502/22502 [==============================] - 44s - loss: 2.2472 - val_loss: 2.1762\n",
      "Train on 22502 samples, validate on 2501 samples\n",
      "Epoch 1/1\n",
      "22502/22502 [==============================] - 43s - loss: 2.2191 - val_loss: 2.1343\n",
      "Train on 22502 samples, validate on 2501 samples\n",
      "Epoch 1/1\n",
      "22502/22502 [==============================] - 46s - loss: 2.1591 - val_loss: 2.0696\n",
      "Train on 22502 samples, validate on 2501 samples\n",
      "Epoch 1/1\n",
      "22502/22502 [==============================] - 44s - loss: 2.1192 - val_loss: 2.0434\n",
      "Train on 22502 samples, validate on 2501 samples\n",
      "Epoch 1/1\n",
      "22502/22502 [==============================] - 44s - loss: 2.0858 - val_loss: 2.0302\n",
      "Train on 22502 samples, validate on 2501 samples\n",
      "Epoch 1/1\n",
      "22502/22502 [==============================] - 46s - loss: 2.0378 - val_loss: 1.9780\n",
      "Train on 22502 samples, validate on 2501 samples\n",
      "Epoch 1/1\n",
      "22502/22502 [==============================] - 50s - loss: 2.0257 - val_loss: 1.9555\n",
      "Train on 22502 samples, validate on 2501 samples\n",
      "Epoch 1/1\n",
      "22502/22502 [==============================] - 43s - loss: 1.9750 - val_loss: 1.8644\n",
      "Train on 22502 samples, validate on 2501 samples\n",
      "Epoch 1/1\n",
      "22502/22502 [==============================] - 50s - loss: 1.9494 - val_loss: 1.9596\n",
      "Train on 22502 samples, validate on 2501 samples\n",
      "Epoch 1/1\n",
      "22502/22502 [==============================] - 56s - loss: 1.9387 - val_loss: 1.8308\n",
      "Train on 22502 samples, validate on 2501 samples\n",
      "Epoch 1/1\n",
      "22502/22502 [==============================] - 42s - loss: 1.9072 - val_loss: 1.8390\n",
      "Train on 22502 samples, validate on 2501 samples\n",
      "Epoch 1/1\n",
      "22502/22502 [==============================] - 41s - loss: 1.8945 - val_loss: 1.8115\n",
      "Train on 22502 samples, validate on 2501 samples\n",
      "Epoch 1/1\n",
      "22502/22502 [==============================] - 40s - loss: 1.8966 - val_loss: 1.7964\n",
      "Train on 22502 samples, validate on 2501 samples\n",
      "Epoch 1/1\n",
      "22502/22502 [==============================] - 41s - loss: 1.8629 - val_loss: 1.7575\n",
      "Train on 22502 samples, validate on 2501 samples\n",
      "Epoch 1/1\n",
      "22502/22502 [==============================] - 42s - loss: 1.8802 - val_loss: 1.7817\n",
      "Train on 22502 samples, validate on 2501 samples\n",
      "Epoch 1/1\n",
      "22502/22502 [==============================] - 46s - loss: 1.8357 - val_loss: 1.7878\n",
      "Train on 22502 samples, validate on 2501 samples\n",
      "Epoch 1/1\n",
      "22502/22502 [==============================] - 41s - loss: 1.8498 - val_loss: 1.7653\n",
      "Train on 22502 samples, validate on 2501 samples\n",
      "Epoch 1/1\n",
      "22502/22502 [==============================] - 43s - loss: 1.8156 - val_loss: 1.7604\n",
      "Train on 22502 samples, validate on 2501 samples\n",
      "Epoch 1/1\n",
      "22502/22502 [==============================] - 40s - loss: 1.8081 - val_loss: 1.6979\n",
      "Train on 22502 samples, validate on 2501 samples\n",
      "Epoch 1/1\n",
      "22502/22502 [==============================] - 38s - loss: 1.7805 - val_loss: 1.7199\n",
      "Train on 22502 samples, validate on 2501 samples\n",
      "Epoch 1/1\n",
      "22502/22502 [==============================] - 38s - loss: 1.7929 - val_loss: 1.7325\n",
      "Train on 22502 samples, validate on 2501 samples\n",
      "Epoch 1/1\n",
      "22502/22502 [==============================] - 3643s - loss: 1.7902 - val_loss: 1.6937\n",
      "Train on 22502 samples, validate on 2501 samples\n",
      "Epoch 1/1\n",
      "22502/22502 [==============================] - 43s - loss: 1.7876 - val_loss: 1.7000\n",
      "Train on 22502 samples, validate on 2501 samples\n",
      "Epoch 1/1\n",
      "22502/22502 [==============================] - 43s - loss: 1.7788 - val_loss: 1.6830\n",
      "Train on 22502 samples, validate on 2501 samples\n",
      "Epoch 1/1\n",
      "22502/22502 [==============================] - 41s - loss: 1.7756 - val_loss: 1.6926\n",
      "Train on 22502 samples, validate on 2501 samples\n",
      "Epoch 1/1\n",
      "22502/22502 [==============================] - 40s - loss: 1.7606 - val_loss: 1.6117\n",
      "Train on 22502 samples, validate on 2501 samples\n",
      "Epoch 1/1\n",
      "22502/22502 [==============================] - 45s - loss: 1.7502 - val_loss: 1.6492\n",
      "Train on 22502 samples, validate on 2501 samples\n",
      "Epoch 1/1\n",
      "22502/22502 [==============================] - 44s - loss: 1.7703 - val_loss: 1.6216\n",
      "Train on 22502 samples, validate on 2501 samples\n",
      "Epoch 1/1\n",
      "22502/22502 [==============================] - 45s - loss: 1.7524 - val_loss: 1.6324\n",
      "Train on 22502 samples, validate on 2501 samples\n",
      "Epoch 1/1\n",
      "22502/22502 [==============================] - 45s - loss: 1.7534 - val_loss: 1.6318\n",
      "Train on 22502 samples, validate on 2501 samples\n",
      "Epoch 1/1\n",
      "22502/22502 [==============================] - 45s - loss: 1.7362 - val_loss: 1.6598\n",
      "Train on 22502 samples, validate on 2501 samples\n",
      "Epoch 1/1\n",
      "22502/22502 [==============================] - 46s - loss: 1.7392 - val_loss: 1.6392\n",
      "Train on 22502 samples, validate on 2501 samples\n",
      "Epoch 1/1\n",
      "22502/22502 [==============================] - 46s - loss: 1.7388 - val_loss: 1.6530\n",
      "Train on 22502 samples, validate on 2501 samples\n",
      "Epoch 1/1\n",
      "22502/22502 [==============================] - 45s - loss: 1.7421 - val_loss: 1.6583\n",
      "Train on 22502 samples, validate on 2501 samples\n",
      "Epoch 1/1\n",
      "22502/22502 [==============================] - 48s - loss: 1.7204 - val_loss: 1.6157\n",
      "Train on 22502 samples, validate on 2501 samples\n",
      "Epoch 1/1\n",
      "22502/22502 [==============================] - 55s - loss: 1.7276 - val_loss: 1.6303\n",
      "Train on 22502 samples, validate on 2501 samples\n",
      "Epoch 1/1\n",
      "22502/22502 [==============================] - 56s - loss: 1.7310 - val_loss: 1.6507\n",
      "Train on 22502 samples, validate on 2501 samples\n",
      "Epoch 1/1\n",
      "22502/22502 [==============================] - 56s - loss: 1.7207 - val_loss: 1.6387\n",
      "Train on 22502 samples, validate on 2501 samples\n",
      "Epoch 1/1\n",
      "22502/22502 [==============================] - 60s - loss: 1.7414 - val_loss: 1.6144\n",
      "Train on 22502 samples, validate on 2501 samples\n",
      "Epoch 1/1\n",
      "22502/22502 [==============================] - 65s - loss: 1.7085 - val_loss: 1.6045\n",
      "Train on 22502 samples, validate on 2501 samples\n",
      "Epoch 1/1\n",
      "22502/22502 [==============================] - 41s - loss: 1.7222 - val_loss: 1.6407\n",
      "Train on 22502 samples, validate on 2501 samples\n",
      "Epoch 1/1\n",
      "22502/22502 [==============================] - 41s - loss: 1.7182 - val_loss: 1.6519\n",
      "Train on 22502 samples, validate on 2501 samples\n",
      "Epoch 1/1\n",
      "22502/22502 [==============================] - 41s - loss: 1.7110 - val_loss: 1.5679\n",
      "Train on 22502 samples, validate on 2501 samples\n",
      "Epoch 1/1\n",
      "17280/22502 [======================>.......] - ETA: 9s - loss: 1.6981"
     ]
    }
   ],
   "source": [
    "batch_size = 128\n",
    "n_timesteps = 10\n",
    "n_epochs = 10\n",
    "\n",
    "for _ in range(n_epochs):\n",
    "    for i in range(0, X.shape[1] - n_timesteps - 1):\n",
    "        history_list.append(m.fit(X[:, i:i+n_timesteps], X[:, i+n_timesteps, np.newaxis], validation_split=0.10, shuffle=False, batch_size=batch_size, epochs=1 ))\n",
    "\n",
    "\n"
   ]
  },
  {
   "cell_type": "code",
   "execution_count": null,
   "metadata": {
    "collapsed": true
   },
   "outputs": [],
   "source": []
  },
  {
   "cell_type": "code",
   "execution_count": 25,
   "metadata": {
    "collapsed": true
   },
   "outputs": [],
   "source": [
    "def generate_char(m, text=\"\"):\n",
    "     return np.random.choice( ['_'] + list(chars_to_keep), p=m.predict(string_to_array(text)[np.newaxis, :])[0])\n",
    "    \n",
    "def generate_text(m, N, text=\"k\"): # start with one character so that m.predict works.\n",
    "    for i in range(N):\n",
    "        text += generate_char(m, text)\n",
    "    return text"
   ]
  },
  {
   "cell_type": "code",
   "execution_count": null,
   "metadata": {},
   "outputs": [],
   "source": [
    "generate_text(m, 100)"
   ]
  },
  {
   "cell_type": "code",
   "execution_count": null,
   "metadata": {
    "collapsed": true
   },
   "outputs": [],
   "source": []
  },
  {
   "cell_type": "code",
   "execution_count": null,
   "metadata": {
    "collapsed": true
   },
   "outputs": [],
   "source": []
  }
 ],
 "metadata": {
  "kernelspec": {
   "display_name": "Python 2",
   "language": "python",
   "name": "python2"
  },
  "language_info": {
   "codemirror_mode": {
    "name": "ipython",
    "version": 2
   },
   "file_extension": ".py",
   "mimetype": "text/x-python",
   "name": "python",
   "nbconvert_exporter": "python",
   "pygments_lexer": "ipython2",
   "version": "2.7.13"
  }
 },
 "nbformat": 4,
 "nbformat_minor": 2
}
